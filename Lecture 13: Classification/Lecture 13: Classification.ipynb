{
 "cells": [
  {
   "cell_type": "markdown",
   "metadata": {},
   "source": [
    "# Lecture 13: Classification \n",
    "Description: Prof. Guttag introduces supervised learning with nearest neighbor classification using feature scaling and decision trees.\n",
    "\n",
    "Instructor: John Guttag"
   ]
  },
  {
   "cell_type": "code",
   "execution_count": null,
   "metadata": {},
   "outputs": [],
   "source": []
  }
 ],
 "metadata": {
  "language_info": {
   "name": "python"
  }
 },
 "nbformat": 4,
 "nbformat_minor": 2
}
