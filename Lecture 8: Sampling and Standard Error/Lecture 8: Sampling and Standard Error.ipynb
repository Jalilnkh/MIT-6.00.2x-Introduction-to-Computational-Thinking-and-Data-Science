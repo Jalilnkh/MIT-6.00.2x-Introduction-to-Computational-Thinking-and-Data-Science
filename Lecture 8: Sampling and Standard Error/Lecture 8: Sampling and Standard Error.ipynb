{
 "cells": [
  {
   "cell_type": "markdown",
   "metadata": {},
   "source": [
    "### Lecture 8: Sampling and Standard Error\n",
    "Description: Prof. Guttag discusses sampling and how to approach and analyze real data.\n",
    "\n",
    "Instructor: John Guttag"
   ]
  },
  {
   "cell_type": "markdown",
   "metadata": {},
   "source": [
    "### Recall Inferential Statistics\n",
    "\n",
    " - *Inferential Statistics:* Making inferences about a populations by examining one or more random samples drawn from that population.\n",
    " - With Monto Carlo simulation we can generate lots of random samples, and use them to compute confidence intervals.\n",
    " - But suppose we cant create samples by simulation?\n",
    "\n",
    "    - \"According to the most recent poll Clinton leads Trump by 3.2 percentage points in swing states. The registered voter sample is 835 with a margin of error of plus or minus 4 percentage points\" - October 2016. "
   ]
  },
  {
   "cell_type": "code",
   "execution_count": null,
   "metadata": {},
   "outputs": [],
   "source": []
  }
 ],
 "metadata": {
  "language_info": {
   "name": "python"
  }
 },
 "nbformat": 4,
 "nbformat_minor": 2
}
