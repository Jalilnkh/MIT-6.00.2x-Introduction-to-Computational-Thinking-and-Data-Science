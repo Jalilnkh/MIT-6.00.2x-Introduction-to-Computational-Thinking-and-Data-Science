{
 "cells": [
  {
   "cell_type": "markdown",
   "metadata": {},
   "source": [
    "### Lecture 8: Sampling and Standard Error\n",
    "Description: Prof. Guttag discusses sampling and how to approach and analyze real data.\n",
    "\n",
    "Instructor: John Guttag"
   ]
  },
  {
   "cell_type": "markdown",
   "metadata": {},
   "source": [
    "### Recall Inferential Statistics\n",
    "\n",
    " - *Inferential Statistics:* Making inferences about a populations by examining one or more random samples drawn from that population.\n",
    " - With Monto Carlo simulation we can generate lots of random samples, and use them to compute confidence intervals.\n",
    " - But suppose we cant create samples by simulation?\n",
    "\n",
    "    - \"According to the most recent poll Clinton leads Trump by 3.2 percentage points in swing states. The registered voter sample is 835 with a margin of error of plus or minus 4 percentage points\" - October 2016. "
   ]
  },
  {
   "cell_type": "code",
   "execution_count": 1,
   "metadata": {},
   "outputs": [
    {
     "name": "stdout",
     "output_type": "stream",
     "text": [
      "Standard Deviation of the dataset is: 14.142135623730951\n"
     ]
    }
   ],
   "source": [
    "import numpy as np\n",
    "\n",
    "# Create a dataset\n",
    "data = [10, 20, 30, 40, 50]\n",
    "\n",
    "# Calculate the standard deviation\n",
    "std_deviation = np.std(data)\n",
    "\n",
    "# Print the result\n",
    "print(\"Standard Deviation of the dataset is:\", std_deviation)\n"
   ]
  },
  {
   "cell_type": "code",
   "execution_count": 2,
   "metadata": {},
   "outputs": [
    {
     "name": "stdout",
     "output_type": "stream",
     "text": [
      "Random sample of 3 elements from the list is: [9, 1, 3]\n"
     ]
    }
   ],
   "source": [
    "import random\n",
    "\n",
    "# Create a list of elements\n",
    "elements = [1, 2, 3, 4, 5, 6, 7, 8, 9, 10]\n",
    "\n",
    "# Generate a random sample of 3 elements from the list\n",
    "sample = random.sample(elements, 3)\n",
    "\n",
    "# Print the result\n",
    "print(\"Random sample of 3 elements from the list is:\", sample)\n"
   ]
  },
  {
   "cell_type": "code",
   "execution_count": null,
   "metadata": {},
   "outputs": [],
   "source": []
  }
 ],
 "metadata": {
  "kernelspec": {
   "display_name": "omniaz",
   "language": "python",
   "name": "python3"
  },
  "language_info": {
   "codemirror_mode": {
    "name": "ipython",
    "version": 3
   },
   "file_extension": ".py",
   "mimetype": "text/x-python",
   "name": "python",
   "nbconvert_exporter": "python",
   "pygments_lexer": "ipython3",
   "version": "3.9.7"
  }
 },
 "nbformat": 4,
 "nbformat_minor": 2
}
