{
 "cells": [
  {
   "cell_type": "markdown",
   "metadata": {},
   "source": [
    "# Lecture 5: Random Walks\n",
    "Description: Prof. Guttag discusses how to build simulations and plot graphs in Python.\n",
    "\n",
    "Instructor: John Guttag"
   ]
  },
  {
   "cell_type": "markdown",
   "metadata": {},
   "source": [
    "\n",
    "### NumPy\n",
    "**NumPy** is a fundamental package for scientific computing in Python. It provides support for arrays, matrices, and many mathematical functions to operate on these data structures.\n",
    "\n",
    "### SciPy\n",
    "**SciPy** is a Python library used for scientific and technical computing. It builds on NumPy and provides a large number of higher-level functions and modules for optimization, integration, interpolation, eigenvalue problems, algebraic equations, and other mathematical tasks.\n",
    "\n",
    "### Pylab\n",
    "**Pylab** is a module that combines the functionalities of NumPy and Matplotlib in a single namespace, primarily intended for interactive scientific computing and plotting. It is part of the Matplotlib library.\n",
    "\n",
    "### Matplotlib\n",
    "**Matplotlib** is a plotting library for Python and its numerical mathematics extension NumPy. It provides an object-oriented API for embedding plots into applications and includes functions for creating a variety of static, animated, and interactive visualizations."
   ]
  },
  {
   "cell_type": "code",
   "execution_count": null,
   "metadata": {},
   "outputs": [],
   "source": []
  }
 ],
 "metadata": {
  "language_info": {
   "name": "python"
  }
 },
 "nbformat": 4,
 "nbformat_minor": 2
}
