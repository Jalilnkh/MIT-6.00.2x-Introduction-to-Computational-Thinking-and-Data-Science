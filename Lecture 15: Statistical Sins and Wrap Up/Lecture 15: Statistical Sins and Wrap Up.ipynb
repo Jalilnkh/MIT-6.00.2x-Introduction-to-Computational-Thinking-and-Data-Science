{
 "cells": [
  {
   "cell_type": "markdown",
   "metadata": {},
   "source": [
    "# Lecture 15: Statistical Sins and Wrap Up\n",
    "Description: Prof. Guttag continues the conversation about statistical fallacies and summarizes the take-aways of the course.\n",
    "\n",
    "Instructor: John Guttag"
   ]
  },
  {
   "cell_type": "code",
   "execution_count": 2,
   "metadata": {},
   "outputs": [],
   "source": [
    "import random"
   ]
  },
  {
   "cell_type": "code",
   "execution_count": 8,
   "metadata": {},
   "outputs": [],
   "source": [
    "num_case_per_year = 36000\n",
    "num_years = 3\n",
    "stats_size = 10000\n",
    "community_size = 10\n",
    "num_communities = stats_size//community_size\n",
    "\n",
    "num_trails = 100\n",
    "num_greater = 0"
   ]
  },
  {
   "cell_type": "code",
   "execution_count": 9,
   "metadata": {},
   "outputs": [
    {
     "name": "stdout",
     "output_type": "stream",
     "text": [
      "Est. probability of region 111 having at least 143 cases = 0.0\n"
     ]
    }
   ],
   "source": [
    "for t in range(num_trails):\n",
    "    locs = [0]*num_communities\n",
    "    for i in range(num_years*num_case_per_year):\n",
    "        locs[random.choice(range(num_communities))] +=1\n",
    "    if locs[111] >= 143:\n",
    "        num_greater += 1\n",
    "\n",
    "prob = round(num_greater/num_trails, 4)\n",
    "print(f'Est. probability of region 111 having at least 143 cases = {prob}')"
   ]
  },
  {
   "cell_type": "code",
   "execution_count": null,
   "metadata": {},
   "outputs": [],
   "source": []
  }
 ],
 "metadata": {
  "kernelspec": {
   "display_name": "omniaz",
   "language": "python",
   "name": "python3"
  },
  "language_info": {
   "codemirror_mode": {
    "name": "ipython",
    "version": 3
   },
   "file_extension": ".py",
   "mimetype": "text/x-python",
   "name": "python",
   "nbconvert_exporter": "python",
   "pygments_lexer": "ipython3",
   "version": "3.9.7"
  }
 },
 "nbformat": 4,
 "nbformat_minor": 2
}
