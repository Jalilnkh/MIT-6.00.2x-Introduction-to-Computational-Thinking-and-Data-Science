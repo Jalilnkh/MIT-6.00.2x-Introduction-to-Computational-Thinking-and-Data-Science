{
 "cells": [
  {
   "cell_type": "markdown",
   "metadata": {},
   "source": [
    "# Lecture 1: Introduction and Optimization Problems"
   ]
  },
  {
   "cell_type": "markdown",
   "metadata": {},
   "source": [
    "### How do we use computation to understand the world in which we live? What is a model?\n",
    "\n",
    "To me I think of it as an experimental device that can help us to either understand something that has happened, to sort of build a model that explains phenomena we see every day, or a model that will allow us to predict the future, something that hasn't happened. So you can think of, for example, a climate change model."
   ]
  },
  {
   "cell_type": "markdown",
   "metadata": {},
   "source": [
    "### What is optimization model?\n",
    "An objective function that is to be maximized or minimized.\n",
    "\n",
    "A set of constraints (possibly empty) that must be honored."
   ]
  },
  {
   "cell_type": "markdown",
   "metadata": {},
   "source": [
    "### Let's discuss about **Knapsack Problem**"
   ]
  },
  {
   "cell_type": "markdown",
   "metadata": {},
   "source": [
    "The knapsack problem is a classic optimization problem that derives its name from the scenario of a traveler trying to maximize the value of items placed in a knapsack of fixed capacity. It is a combinatorial problem that can be solved using various approaches, including dynamic programming, greedy algorithms, and backtracking.\n",
    "\n",
    "### Problem Description\n",
    "\n",
    "Given a set of items, each with a weight and a value, determine the number of each item to include in a collection so that the total weight does not exceed a given capacity and the total value is as large as possible.\n",
    "\n",
    "### Types of Knapsack Problems\n",
    "\n",
    "1. **0/1 Knapsack Problem:**\n",
    "   - Each item can either be included in the knapsack or not (i.e., you cannot take a fractional part of an item).\n",
    "   - **Example:** Given items with weights and values, and a knapsack capacity, decide whether to include each item or not to maximize total value without exceeding the capacity.\n",
    "\n",
    "2. **Fractional Knapsack Problem:**\n",
    "   - You can take fractional parts of items.\n",
    "   - **Example:** Given items with weights and values, and a knapsack capacity, take fractions of items to maximize total value without exceeding the capacity. This problem can be solved using a greedy algorithm.\n",
    "\n",
    "3. **Unbounded Knapsack Problem:**\n",
    "   - There is no limit on the number of times you can include an item.\n",
    "   - **Example:** Given items with weights and values, and a knapsack capacity, decide how many of each item to include to maximize total value without exceeding the capacity.\n",
    "\n",
    "### 0/1 Knapsack Problem Detailed Explanation\n",
    "\n",
    "#### Problem Formulation\n",
    "\n",
    "- **Input:**\n",
    "  - A list of items, each with a weight \\( w_i \\) and a value \\( v_i \\).\n",
    "  - A knapsack with a maximum weight capacity \\( W \\).\n",
    "\n",
    "- **Output:**\n",
    "  - The maximum total value that can be accommodated in the knapsack without exceeding the weight capacity."
   ]
  },
  {
   "cell_type": "markdown",
   "metadata": {},
   "source": [
    "### Solution"
   ]
  },
  {
   "cell_type": "markdown",
   "metadata": {},
   "source": [
    "The brute force algorithm for the knapsack problem involves exploring all possible combinations of items to find the one that yields the maximum total value without exceeding the weight capacity of the knapsack. This approach is straightforward but can be computationally expensive, especially for large sets of items, as it involves checking every possible subset.\n",
    "\n",
    "### 0/1 Knapsack Problem\n",
    "\n",
    "#### Problem Formulation\n",
    "\n",
    "- **Input:**\n",
    "  - A list of items, each with a weight \\( w_i \\) and a value \\( v_i \\).\n",
    "  - A knapsack with a maximum weight capacity \\( W \\).\n",
    "\n",
    "- **Output:**\n",
    "  - The maximum total value that can be accommodated in the knapsack without exceeding the weight capacity.\n",
    "\n",
    "### Brute Force Approach\n",
    "\n",
    "The brute force approach evaluates every possible subset of the given items and selects the subset with the highest value that doesn't exceed the weight limit.\n",
    "\n",
    "#### Steps\n",
    "\n",
    "1. **Generate All Possible Subsets:**\n",
    "   - For each item, you have two choices: either include it in the knapsack or exclude it.\n",
    "   - For \\( n \\) items, there are \\( 2^n \\) possible subsets.\n",
    "\n",
    "2. **Calculate the Total Weight and Value of Each Subset:**\n",
    "   - For each subset, calculate the total weight and total value.\n",
    "\n",
    "3. **Select the Valid Subset with the Highest Value:**\n",
    "   - Among the subsets whose total weight does not exceed the capacity \\( W \\), find the one with the maximum total value."
   ]
  },
  {
   "cell_type": "markdown",
   "metadata": {},
   "source": [
    "### Brute Force Approach is not practical because:\n",
    "\n",
    "The brute force algorithm for the knapsack problem is not practical for large numbers of items, such as 100 items, due to the exponential growth of the number of possible subsets that need to be evaluated. For n items, there are 2^n possible subsets. 2^100 subsets×1 nanosecond per subset≈1.27×10^21 seconds≈4.04×10^13 years\n"
   ]
  },
  {
   "cell_type": "markdown",
   "metadata": {},
   "source": [
    "### Is there any good algorithm to give us the answer? \n",
    "The answer is no.\n",
    "The knapsack problem and indeed for many optimization problems are inherently exponentional. It means there is no algorithm to give exact answer.\n",
    "But there is algorithm to give you close answer which would be the best possible answer. \n",
    "\n"
   ]
  },
  {
   "cell_type": "markdown",
   "metadata": {},
   "source": [
    "1. **Greedy algorithm:**\n",
    "   - to be written..\n",
    "   -  "
   ]
  },
  {
   "cell_type": "code",
   "execution_count": null,
   "metadata": {},
   "outputs": [],
   "source": []
  }
 ],
 "metadata": {
  "language_info": {
   "name": "python"
  }
 },
 "nbformat": 4,
 "nbformat_minor": 2
}
