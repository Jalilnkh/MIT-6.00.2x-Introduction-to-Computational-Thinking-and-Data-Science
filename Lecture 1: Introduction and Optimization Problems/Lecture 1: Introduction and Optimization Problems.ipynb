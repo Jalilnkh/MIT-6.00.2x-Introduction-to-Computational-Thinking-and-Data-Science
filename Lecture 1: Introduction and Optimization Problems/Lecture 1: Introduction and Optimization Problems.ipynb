{
 "cells": [
  {
   "cell_type": "markdown",
   "metadata": {},
   "source": [
    "# Lecture 1: Introduction and Optimization Problems"
   ]
  },
  {
   "cell_type": "markdown",
   "metadata": {},
   "source": [
    "### How do we use computation to understand the world in which we live? What is a model?\n",
    "\n",
    "To me I think of it as an experimental device that can help us to either understand something that has happened, to sort of build a model that explains phenomena we see every day, or a model that will allow us to predict the future, something that hasn't happened. So you can think of, for example, a climate change model."
   ]
  },
  {
   "cell_type": "markdown",
   "metadata": {},
   "source": [
    "### What is optimization model?\n",
    "An objective function that is to be maximized or minimized.\n",
    "\n",
    "A set of constraints (possibly empty) that must be honored."
   ]
  },
  {
   "cell_type": "markdown",
   "metadata": {},
   "source": [
    "### Let's discuss about **Knapsack Problem**"
   ]
  },
  {
   "cell_type": "markdown",
   "metadata": {},
   "source": [
    "The knapsack problem is a classic optimization problem that derives its name from the scenario of a traveler trying to maximize the value of items placed in a knapsack of fixed capacity. It is a combinatorial problem that can be solved using various approaches, including dynamic programming, greedy algorithms, and backtracking.\n",
    "\n",
    "### Problem Description\n",
    "\n",
    "Given a set of items, each with a weight and a value, determine the number of each item to include in a collection so that the total weight does not exceed a given capacity and the total value is as large as possible.\n",
    "\n",
    "### Types of Knapsack Problems\n",
    "\n",
    "1. **0/1 Knapsack Problem:**\n",
    "   - Each item can either be included in the knapsack or not (i.e., you cannot take a fractional part of an item).\n",
    "   - **Example:** Given items with weights and values, and a knapsack capacity, decide whether to include each item or not to maximize total value without exceeding the capacity.\n",
    "\n",
    "2. **Fractional Knapsack Problem:**\n",
    "   - You can take fractional parts of items.\n",
    "   - **Example:** Given items with weights and values, and a knapsack capacity, take fractions of items to maximize total value without exceeding the capacity. This problem can be solved using a greedy algorithm.\n",
    "\n",
    "3. **Unbounded Knapsack Problem:**\n",
    "   - There is no limit on the number of times you can include an item.\n",
    "   - **Example:** Given items with weights and values, and a knapsack capacity, decide how many of each item to include to maximize total value without exceeding the capacity.\n",
    "\n",
    "### 0/1 Knapsack Problem Detailed Explanation\n",
    "\n",
    "#### Problem Formulation\n",
    "\n",
    "- **Input:**\n",
    "  - A list of items, each with a weight \\( w_i \\) and a value \\( v_i \\).\n",
    "  - A knapsack with a maximum weight capacity \\( W \\).\n",
    "\n",
    "- **Output:**\n",
    "  - The maximum total value that can be accommodated in the knapsack without exceeding the weight capacity."
   ]
  },
  {
   "cell_type": "markdown",
   "metadata": {},
   "source": [
    "### Solution"
   ]
  },
  {
   "cell_type": "markdown",
   "metadata": {},
   "source": [
    "The brute force algorithm for the knapsack problem involves exploring all possible combinations of items to find the one that yields the maximum total value without exceeding the weight capacity of the knapsack. This approach is straightforward but can be computationally expensive, especially for large sets of items, as it involves checking every possible subset.\n",
    "\n",
    "### 0/1 Knapsack Problem\n",
    "\n",
    "#### Problem Formulation\n",
    "\n",
    "- **Input:**\n",
    "  - A list of items, each with a weight \\( w_i \\) and a value \\( v_i \\).\n",
    "  - A knapsack with a maximum weight capacity \\( W \\).\n",
    "\n",
    "- **Output:**\n",
    "  - The maximum total value that can be accommodated in the knapsack without exceeding the weight capacity.\n",
    "\n",
    "### Brute Force Approach\n",
    "\n",
    "The brute force approach evaluates every possible subset of the given items and selects the subset with the highest value that doesn't exceed the weight limit.\n",
    "\n",
    "#### Steps\n",
    "\n",
    "1. **Generate All Possible Subsets:**\n",
    "   - For each item, you have two choices: either include it in the knapsack or exclude it.\n",
    "   - For \\( n \\) items, there are \\( 2^n \\) possible subsets.\n",
    "\n",
    "2. **Calculate the Total Weight and Value of Each Subset:**\n",
    "   - For each subset, calculate the total weight and total value.\n",
    "\n",
    "3. **Select the Valid Subset with the Highest Value:**\n",
    "   - Among the subsets whose total weight does not exceed the capacity \\( W \\), find the one with the maximum total value."
   ]
  },
  {
   "cell_type": "markdown",
   "metadata": {},
   "source": [
    "### Brute Force Approach is not practical because:\n",
    "\n",
    "The brute force algorithm for the knapsack problem is not practical for large numbers of items, such as 100 items, due to the exponential growth of the number of possible subsets that need to be evaluated. For n items, there are 2^n possible subsets. 2^100 subsets×1 nanosecond per subset≈1.27×10^21 seconds≈4.04×10^13 years\n"
   ]
  },
  {
   "cell_type": "markdown",
   "metadata": {},
   "source": [
    "### Is there any good algorithm to give us the answer? \n",
    "The answer is no.\n",
    "The knapsack problem and indeed for many optimization problems are inherently exponentional. It means there is no algorithm to give exact answer.\n",
    "But there is algorithm to give you close answer which would be the best possible answer. \n",
    "\n"
   ]
  },
  {
   "cell_type": "markdown",
   "metadata": {},
   "source": [
    "### Greedy Algorithm for Knapsack Problem\n",
    "\n",
    "A greedy algorithm is an approach to solving optimization problems by making a series of choices, each of which looks the best at the moment. The idea is to make a locally optimal choice at each step with the hope that these choices will lead to a globally optimal solution. Computational time is n(log(n)).\n",
    "\n",
    "For the knapsack problem, the greedy algorithm is particularly effective for the **Fractional Knapsack Problem**, where you can take fractions of items. However, it does not guarantee an optimal solution for the **0/1 Knapsack Problem**, where items can only be taken in whole.\n",
    "\n",
    "### Fractional Knapsack Problem\n",
    "\n",
    "#### Problem Description\n",
    "\n",
    "- **Input:**\n",
    "  - A list of items, each with a weight \\( w_i \\) and a value \\( v_i \\).\n",
    "  - A knapsack with a maximum weight capacity \\( W \\).\n",
    "\n",
    "- **Output:**\n",
    "  - The maximum total value that can be accommodated in the knapsack without exceeding the weight capacity. Items can be taken in fractions.\n",
    "\n",
    "#### Greedy Strategy\n",
    "\n",
    "The greedy strategy for the fractional knapsack problem involves selecting items based on their value-to-weight ratio \\( \\frac{v_i}{w_i} \\):\n",
    "\n",
    "1. **Compute the value-to-weight ratio** for each item.\n",
    "2. **Sort the items** in descending order of their value-to-weight ratio.\n",
    "3. **Iterate through the sorted items**, adding as much of each item as possible to the knapsack until the knapsack is full.\n",
    "\n",
    "#### Pseudocode\n",
    "\n",
    "1. **Compute ratios**:\n",
    "   - For each item, compute \\( \\frac{v_i}{w_i} \\).\n",
    "\n",
    "2. **Sort items**:\n",
    "   - Sort items based on the computed ratios in descending order.\n",
    "\n",
    "3. **Select items**:\n",
    "   - Initialize `current_weight` and `total_value`.\n",
    "   - For each item in the sorted list:\n",
    "     - If the item can be fully added to the knapsack, add it and update `current_weight` and `total_value`.\n",
    "     - If the item cannot be fully added, add as much as possible and update `total_value`.\n",
    "\n",
    "### Greedy Algorithm for 0/1 Knapsack Problem\n",
    "\n",
    "The greedy algorithm is not optimal for the 0/1 knapsack problem. This is because it may make choices that seem best in the short term but do not lead to an optimal solution. For instance, it might choose a high value-to-weight ratio item that takes up too much capacity and prevents higher total value combinations.\n"
   ]
  },
  {
   "cell_type": "markdown",
   "metadata": {},
   "source": [
    "### Why we have several answer using Greedy Algorithm?\n",
    "\n",
    "The problem is that a Greedy Algorithm makes a sequence of local optimizations, choose the local optimal answers at every point and that doesnt necessarly add up to a gollobaly optimal answer. \n"
   ]
  },
  {
   "cell_type": "code",
   "execution_count": null,
   "metadata": {},
   "outputs": [],
   "source": []
  }
 ],
 "metadata": {
  "kernelspec": {
   "display_name": "Python 3",
   "language": "python",
   "name": "python3"
  },
  "language_info": {
   "codemirror_mode": {
    "name": "ipython",
    "version": 3
   },
   "file_extension": ".py",
   "mimetype": "text/x-python",
   "name": "python",
   "nbconvert_exporter": "python",
   "pygments_lexer": "ipython3",
   "version": "3.10.12"
  }
 },
 "nbformat": 4,
 "nbformat_minor": 2
}
