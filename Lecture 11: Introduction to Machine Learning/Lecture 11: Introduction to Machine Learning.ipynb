{
 "cells": [
  {
   "cell_type": "markdown",
   "metadata": {},
   "source": [
    "# Lecture 11: Introduction to Machine Learning"
   ]
  },
  {
   "cell_type": "markdown",
   "metadata": {},
   "source": [
    "Machine learning vs Traditional programming:\n",
    "\n",
    "Traditional programing:\n",
    "\n",
    "*input + program -> computer -> output*\n",
    "\n",
    "Machine learning:\n",
    "\n",
    "*input + output -> computer -> program*\n"
   ]
  },
  {
   "cell_type": "markdown",
   "metadata": {},
   "source": [
    "### Five essential components of Machine learning methods\n",
    "\n",
    "- 1- We need to decide what is the training data\n",
    "- 2- How are we going to evaluate it\n",
    "- 3- How are we going to represent each instance\n",
    "- 4- Associated with instance representation how do I measure distances\n",
    "- 5- How do I decide what is close and what is not close?\n"
   ]
  },
  {
   "cell_type": "markdown",
   "metadata": {},
   "source": []
  },
  {
   "cell_type": "code",
   "execution_count": null,
   "metadata": {},
   "outputs": [],
   "source": []
  }
 ],
 "metadata": {
  "language_info": {
   "name": "python"
  }
 },
 "nbformat": 4,
 "nbformat_minor": 2
}
