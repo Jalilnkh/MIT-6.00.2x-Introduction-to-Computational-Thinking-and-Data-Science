{
 "cells": [
  {
   "cell_type": "markdown",
   "metadata": {},
   "source": [
    "# Lecture 11: Introduction to Machine Learning"
   ]
  },
  {
   "cell_type": "markdown",
   "metadata": {},
   "source": [
    "Machine learning vs Traditional programming:\n",
    "\n",
    "Traditional programing:\n",
    "\n",
    "*input + program -> computer -> output*\n",
    "\n",
    "Machine learning:\n",
    "\n",
    "*input + output -> computer -> program*\n"
   ]
  },
  {
   "cell_type": "markdown",
   "metadata": {},
   "source": [
    "### Five essential components of Machine learning methods\n",
    "\n",
    "- 1- We need to decide what is the training data\n",
    "- 2- How are we going to evaluate it\n",
    "- 3- How are we going to represent each instance\n",
    "- 4- Associated with instance representation how do I measure distances\n",
    "- 5- How do I decide what is close and what is not close?\n"
   ]
  },
  {
   "cell_type": "markdown",
   "metadata": {},
   "source": [
    "Euclidean Distance:\n",
    "\n",
    "Euclidean distance is the straight-line distance between two points in a Euclidean space.\n",
    "\n",
    "Manhattan Distance:\n",
    "\n",
    "Manhattan distance, also known as taxicab or L1 distance, is the sum of the absolute differences of the coordinates."
   ]
  },
  {
   "cell_type": "markdown",
   "metadata": {},
   "source": [
    "### Positive Predictive Value (PPV), Sensitivity, and Specificity: Key Concepts\n",
    "\n",
    "#### Sensitivity\n",
    "**Definition**:\n",
    "Sensitivity, also known as the true positive rate or recall, measures the proportion of actual positives that are correctly identified by the test.\n",
    "\n",
    "**Formula**:\n",
    "Sensitivity = True Positives (TP) / True Positives (TP) + False Negatives (FN)\n",
    "\n",
    "**Interpretation**:\n",
    "A high sensitivity means that the test is good at identifying positive cases. It’s particularly important in medical diagnostics where missing a condition can have severe consequences.\n",
    "\n",
    "#### Specificity\n",
    "**Definition**:\n",
    "Specificity, also known as the true negative rate, measures the proportion of actual negatives that are correctly identified by the test.\n",
    "\n",
    "**Formula**:\n",
    "Specificity = True Negatives (TN)/True Negatives (TN) + False Positives (FP)\n",
    "\n",
    "**Interpretation**:\n",
    "A high specificity means that the test is good at identifying negative cases. It’s crucial in situations where a false positive can lead to unnecessary stress or treatment.\n",
    "\n",
    "#### Positive Predictive Value (PPV)\n",
    "**Definition**:\n",
    "Positive Predictive Value, also known as precision, measures the proportion of positive results in a test that are true positives.\n",
    "\n",
    "**Formula**:\n",
    "PPV = True Positives (TP) True Positives (TP) + False Positives (FP)\n",
    "\n",
    "**Interpretation**:\n",
    "PPV is a measure of the accuracy of the positive test results. A high PPV indicates that a positive test result is likely to represent a true positive.\n",
    "\n",
    "### Example Scenario\n",
    "Consider a diagnostic test for a disease:\n",
    "\n",
    "- **True Positives (TP)**: Number of individuals correctly identified as having the disease.\n",
    "- **False Negatives (FN)**: Number of individuals who have the disease but are incorrectly identified as not having it.\n",
    "- **True Negatives (TN)**: Number of individuals correctly identified as not having the disease.\n",
    "- **False Positives (FP)**: Individuals who do not have the disease, but the test incorrectly identifies them as having it."
   ]
  },
  {
   "cell_type": "code",
   "execution_count": null,
   "metadata": {},
   "outputs": [],
   "source": []
  }
 ],
 "metadata": {
  "language_info": {
   "name": "python"
  }
 },
 "nbformat": 4,
 "nbformat_minor": 2
}
