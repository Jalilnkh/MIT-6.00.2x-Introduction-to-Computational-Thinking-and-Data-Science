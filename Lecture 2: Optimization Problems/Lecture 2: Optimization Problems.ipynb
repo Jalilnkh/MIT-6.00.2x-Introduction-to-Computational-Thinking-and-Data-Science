{
 "cells": [
  {
   "cell_type": "markdown",
   "metadata": {},
   "source": [
    "# Lecture 2: Optimization Problems"
   ]
  },
  {
   "cell_type": "markdown",
   "metadata": {},
   "source": [
    "### Decision Tree for Knapsack Problem\n",
    "Creating a decision tree for the knapsack problem involves structuring the decision process of selecting items to include in the knapsack to maximize the total value without exceeding the weight capacity. The knapsack problem is typically solved using dynamic programming or greedy algorithms, but we can visualize the decision process using a tree.\n",
    "\n",
    "Here is a step-by-step guide to creating a decision tree for the knapsack problem:\n",
    "\n",
    "1. **Define the problem:**\n",
    "   - You have a set of items, each with a weight and a value.\n",
    "   - You have a maximum weight capacity for your knapsack.\n",
    "\n",
    "2. **Create the root node:**\n",
    "   - The root node represents the initial state with no items selected and the full capacity available.\n",
    "\n",
    "3. **Expand the nodes:**\n",
    "   - For each node, create branches for including or excluding each item.\n",
    "   - Each branch represents a decision to either include the item (subtracting its weight from the remaining capacity and adding its value to the total) or exclude the item (keeping the current state).\n",
    "\n",
    "4. **Leaf nodes:**\n",
    "   - The leaf nodes represent end states where either all items have been considered, or the capacity has been exceeded.\n",
    "\n",
    "5. **Backtrack and calculate the values:**\n",
    "   - Calculate the total value for each leaf node.\n",
    "   - Propagate the values back up the tree, choosing the maximum value at each decision point.\n",
    "\n",
    "Let's illustrate this with a simple example:\n",
    "\n",
    "### Example:\n",
    "- Items: \n",
    "  - Item 1: Weight = 2, Value = 3\n",
    "  - Item 2: Weight = 3, Value = 4\n",
    "  - Item 3: Weight = 4, Value = 5\n",
    "- Knapsack capacity: 5\n",
    "\n",
    "### Optimal Solution:\n",
    "Backtrack through the tree to find the maximum value:\n",
    "- The highest valid value is 7 with a capacity of 0, achieved by including Item 1 and Item 2.\n",
    "\n",
    "### Visualization:\n",
    "The tree can be complex to visualize textually. Let's create a simplified visual representation using text:\n",
    "\n",
    "```\n",
    "                [Start: C=5, V=0]\n",
    "                   /           \\\n",
    "          Include Item 1     Exclude Item 1\n",
    "            /        \\         /          \\\n",
    "   Include Item 2  Exclude  Include Item 2  Exclude\n",
    "    /     \\         /     \\     /     \\       /   \\\n",
    "Include  Exclude Include  Exclude Include Exclude Include Exclude\n",
    "Item 3   Item 3   Item 3  Item 3  Item 3  Item 3  Item 3 Item 3\n",
    "```\n",
    "\n"
   ]
  },
  {
   "cell_type": "markdown",
   "metadata": {},
   "source": [
    "## Dynamic Programming\n",
    "\n",
    "What is the besic idea:\n",
    "\n",
    "The basic idea of dynamic programming (DP) is to solve complex problems by breaking them down into simpler subproblems and solving each of those subproblems just once, storing their solutions – typically in an array or table – so that each subproblem is only solved once (thus optimizing the computational process)."
   ]
  },
  {
   "cell_type": "markdown",
   "metadata": {},
   "source": [
    "let's take a look at fibonacci problem:"
   ]
  },
  {
   "cell_type": "code",
   "execution_count": 5,
   "metadata": {},
   "outputs": [
    {
     "name": "stdout",
     "output_type": "stream",
     "text": [
      "0 89\n",
      "1 89\n",
      "2 89\n",
      "3 89\n",
      "4 89\n",
      "5 89\n",
      "6 89\n",
      "7 89\n",
      "8 89\n",
      "9 89\n"
     ]
    }
   ],
   "source": [
    "def fibo_numbers(number):\n",
    "    if number == 0 or number == 1:\n",
    "        return 1\n",
    "    else:\n",
    "        return fibo_numbers(number - 1) + fibo_numbers(number - 2)\n",
    "\n",
    "for i in range(10):\n",
    "    print(i, fibo_numbers(10))"
   ]
  },
  {
   "cell_type": "markdown",
   "metadata": {},
   "source": [
    "**fibo_numbers(40)** # long time why?"
   ]
  },
  {
   "cell_type": "markdown",
   "metadata": {},
   "source": [
    "Because we are doing lots of repeadetly things which is not needed."
   ]
  },
  {
   "cell_type": "markdown",
   "metadata": {},
   "source": [
    "**Solution:**\n",
    "\n",
    "**Dynamic programming approach:**\n",
    "\n",
    "Store and use it later called Memoization. in details:\n",
    "This method uses a top-down approach, solving each subproblem recursively and storing the results in a dictionary to avoid redundant calculations.\n"
   ]
  },
  {
   "cell_type": "code",
   "execution_count": 10,
   "metadata": {},
   "outputs": [
    {
     "name": "stdout",
     "output_type": "stream",
     "text": [
      "70330367711422815821835254877183549770181269836358732742604905087154537118196933579742249494562611733487750449241765991088186363265450223647106012053374121273867339111198139373125598767690091902245245323403501\n"
     ]
    }
   ],
   "source": [
    "def fibo_memo(number, memo={}):\n",
    "    if number == 0 or number == 1:\n",
    "        return 1\n",
    "    try:\n",
    "        return memo[number]\n",
    "    except:\n",
    "        result = fibo_memo(number - 1, memo) + fibo_memo(number - 2, memo)\n",
    "        memo[number] = result\n",
    "        return memo[number]\n",
    "\n",
    "print(fibo_memo(1000))"
   ]
  },
  {
   "cell_type": "code",
   "execution_count": null,
   "metadata": {},
   "outputs": [],
   "source": []
  }
 ],
 "metadata": {
  "kernelspec": {
   "display_name": "Python 3",
   "language": "python",
   "name": "python3"
  },
  "language_info": {
   "codemirror_mode": {
    "name": "ipython",
    "version": 3
   },
   "file_extension": ".py",
   "mimetype": "text/x-python",
   "name": "python",
   "nbconvert_exporter": "python",
   "pygments_lexer": "ipython3",
   "version": "3.10.12"
  }
 },
 "nbformat": 4,
 "nbformat_minor": 2
}
