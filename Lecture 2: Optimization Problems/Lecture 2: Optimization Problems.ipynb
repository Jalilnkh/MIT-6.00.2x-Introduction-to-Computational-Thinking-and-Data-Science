{
 "cells": [
  {
   "cell_type": "markdown",
   "metadata": {},
   "source": [
    "# Lecture 2: Optimization Problems"
   ]
  },
  {
   "cell_type": "markdown",
   "metadata": {},
   "source": [
    "### Decision Tree for Knapsack Problem\n",
    "Creating a decision tree for the knapsack problem involves structuring the decision process of selecting items to include in the knapsack to maximize the total value without exceeding the weight capacity. The knapsack problem is typically solved using dynamic programming or greedy algorithms, but we can visualize the decision process using a tree.\n",
    "\n",
    "Here is a step-by-step guide to creating a decision tree for the knapsack problem:\n",
    "\n",
    "1. **Define the problem:**\n",
    "   - You have a set of items, each with a weight and a value.\n",
    "   - You have a maximum weight capacity for your knapsack.\n",
    "\n",
    "2. **Create the root node:**\n",
    "   - The root node represents the initial state with no items selected and the full capacity available.\n",
    "\n",
    "3. **Expand the nodes:**\n",
    "   - For each node, create branches for including or excluding each item.\n",
    "   - Each branch represents a decision to either include the item (subtracting its weight from the remaining capacity and adding its value to the total) or exclude the item (keeping the current state).\n",
    "\n",
    "4. **Leaf nodes:**\n",
    "   - The leaf nodes represent end states where either all items have been considered, or the capacity has been exceeded.\n",
    "\n",
    "5. **Backtrack and calculate the values:**\n",
    "   - Calculate the total value for each leaf node.\n",
    "   - Propagate the values back up the tree, choosing the maximum value at each decision point.\n",
    "\n",
    "Let's illustrate this with a simple example:\n",
    "\n",
    "### Example:\n",
    "- Items: \n",
    "  - Item 1: Weight = 2, Value = 3\n",
    "  - Item 2: Weight = 3, Value = 4\n",
    "  - Item 3: Weight = 4, Value = 5\n",
    "- Knapsack capacity: 5\n",
    "\n",
    "### Optimal Solution:\n",
    "Backtrack through the tree to find the maximum value:\n",
    "- The highest valid value is 7 with a capacity of 0, achieved by including Item 1 and Item 2.\n",
    "\n",
    "### Visualization:\n",
    "The tree can be complex to visualize textually. Let's create a simplified visual representation using text:\n",
    "\n",
    "```\n",
    "                [Start: C=5, V=0]\n",
    "                   /           \\\n",
    "          Include Item 1     Exclude Item 1\n",
    "            /        \\         /          \\\n",
    "   Include Item 2  Exclude  Include Item 2  Exclude\n",
    "    /     \\         /     \\     /     \\       /   \\\n",
    "Include  Exclude Include  Exclude Include Exclude Include Exclude\n",
    "Item 3   Item 3   Item 3  Item 3  Item 3  Item 3  Item 3 Item 3\n",
    "```\n",
    "\n"
   ]
  },
  {
   "cell_type": "code",
   "execution_count": null,
   "metadata": {},
   "outputs": [],
   "source": []
  }
 ],
 "metadata": {
  "language_info": {
   "name": "python"
  }
 },
 "nbformat": 4,
 "nbformat_minor": 2
}
