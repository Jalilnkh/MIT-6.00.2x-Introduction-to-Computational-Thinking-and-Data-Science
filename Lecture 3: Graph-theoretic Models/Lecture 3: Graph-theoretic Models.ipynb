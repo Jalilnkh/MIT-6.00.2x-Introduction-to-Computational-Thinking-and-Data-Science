{
 "cells": [
  {
   "cell_type": "markdown",
   "metadata": {},
   "source": [
    "# Lecture 3: Graph-theoretic Models"
   ]
  },
  {
   "cell_type": "markdown",
   "metadata": {},
   "source": [
    "Description: Prof. Grimson discusses graph models and depth-first and breadth-first search algorithms.\n",
    "\n",
    "Instructor: Eric Grimson"
   ]
  },
  {
   "cell_type": "markdown",
   "metadata": {},
   "source": [
    "### What is Graph?\n",
    "A graph is a mathematical structure used to model pairwise relationships between objects. It is composed of two main components: nodes and edges.\n",
    "\n",
    "1. **nodes** Represent the entities in the graph.\n",
    "2. **edges** Represent the connections or relationships between pairs of nodes."
   ]
  },
  {
   "cell_type": "markdown",
   "metadata": {},
   "source": [
    "### Graph Representation\n",
    "For most large and sparse graphs, an adjacency list is generally more efficient in terms of space and is often preferred for traversal operations. \n"
   ]
  },
  {
   "cell_type": "markdown",
   "metadata": {},
   "source": [
    "### Applications of Graphs\n",
    "Graphs are used in various fields to represent and analyze relationships and structures. Some applications include:\n",
    "\n",
    "1. **Computer Networks:** Representing connections between computers or devices.\n",
    "2. **Social Networks:** Representing relationships and interactions between people.\n",
    "3. **Transportation Networks:** Representing routes and connections between locations.\n",
    "4. **Biological Networks:** Representing interactions between biological entities such as proteins or genes.\n",
    "5. **Web Graphs:** Representing links between web pages.\n",
    "\n",
    "Graphs are a powerful tool in both theoretical and applied contexts, providing a framework for solving complex problems related to connectivity, optimization, and network analysis."
   ]
  },
  {
   "cell_type": "code",
   "execution_count": 1,
   "metadata": {},
   "outputs": [],
   "source": [
    "from graph import Node, Edge, DiGraph\n",
    "\n",
    "graph_a = DiGraph()\n",
    "mansa = Node('Ardabil')\n",
    "birinci = Node('Sarab')\n",
    "ikinci = Node('Tabriz')\n",
    "ucminci = Node('Xoi')\n",
    "magsad = Node('Urmia')\n",
    "\n",
    "edge1 = Edge(mansa, birinci)\n",
    "edge2 = Edge(birinci, ikinci)\n",
    "edge3 = Edge(ikinci, ucminci)\n",
    "edge4 = Edge(ikinci, magsad)\n",
    "edge5 = Edge(ucminci, magsad)"
   ]
  },
  {
   "cell_type": "code",
   "execution_count": 3,
   "metadata": {},
   "outputs": [],
   "source": [
    "graph_a.add_node(mansa)\n",
    "graph_a.add_node(birinci)\n",
    "graph_a.add_node(ikinci)\n",
    "graph_a.add_node(ucminci)\n",
    "graph_a.add_node(magsad)\n"
   ]
  },
  {
   "cell_type": "code",
   "execution_count": 4,
   "metadata": {},
   "outputs": [],
   "source": [
    "graph_a.add_edges(edge1)\n",
    "graph_a.add_edges(edge2)\n",
    "graph_a.add_edges(edge3)\n",
    "graph_a.add_edges(edge4)\n",
    "graph_a.add_edges(edge5)"
   ]
  },
  {
   "cell_type": "code",
   "execution_count": 5,
   "metadata": {},
   "outputs": [
    {
     "data": {
      "text/plain": [
       "'Ardabil->Sarab\\nSarab->Tabriz\\nTabriz->Xoi\\nTabriz->Urmia\\nXoi->Urmia'"
      ]
     },
     "execution_count": 5,
     "metadata": {},
     "output_type": "execute_result"
    }
   ],
   "source": [
    "graph_a.__str__()"
   ]
  },
  {
   "cell_type": "code",
   "execution_count": null,
   "metadata": {},
   "outputs": [],
   "source": []
  }
 ],
 "metadata": {
  "kernelspec": {
   "display_name": "Python 3",
   "language": "python",
   "name": "python3"
  },
  "language_info": {
   "codemirror_mode": {
    "name": "ipython",
    "version": 3
   },
   "file_extension": ".py",
   "mimetype": "text/x-python",
   "name": "python",
   "nbconvert_exporter": "python",
   "pygments_lexer": "ipython3",
   "version": "3.10.12"
  }
 },
 "nbformat": 4,
 "nbformat_minor": 2
}
