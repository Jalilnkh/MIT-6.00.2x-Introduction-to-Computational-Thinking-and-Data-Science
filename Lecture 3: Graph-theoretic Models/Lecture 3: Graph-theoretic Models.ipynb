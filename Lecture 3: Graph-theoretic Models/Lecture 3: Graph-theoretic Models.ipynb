{
 "cells": [
  {
   "cell_type": "markdown",
   "metadata": {},
   "source": [
    "# Lecture 3: Graph-theoretic Models"
   ]
  },
  {
   "cell_type": "markdown",
   "metadata": {},
   "source": [
    "Description: Prof. Grimson discusses graph models and depth-first and breadth-first search algorithms.\n",
    "\n",
    "Instructor: Eric Grimson"
   ]
  },
  {
   "cell_type": "markdown",
   "metadata": {},
   "source": [
    "### What is Graph?\n",
    "A graph is a mathematical structure used to model pairwise relationships between objects. It is composed of two main components: nodes and edges.\n",
    "\n",
    "1. **nodes** Represent the entities in the graph.\n",
    "2. **edges** Represent the connections or relationships between pairs of nodes."
   ]
  },
  {
   "cell_type": "markdown",
   "metadata": {},
   "source": [
    "### Graph Representation\n",
    "For most large and sparse graphs, an adjacency list is generally more efficient in terms of space and is often preferred for traversal operations. \n"
   ]
  },
  {
   "cell_type": "markdown",
   "metadata": {},
   "source": [
    "### Applications of Graphs\n",
    "Graphs are used in various fields to represent and analyze relationships and structures. Some applications include:\n",
    "\n",
    "1. **Computer Networks:** Representing connections between computers or devices.\n",
    "2. **Social Networks:** Representing relationships and interactions between people.\n",
    "3. **Transportation Networks:** Representing routes and connections between locations.\n",
    "4. **Biological Networks:** Representing interactions between biological entities such as proteins or genes.\n",
    "5. **Web Graphs:** Representing links between web pages.\n",
    "\n",
    "Graphs are a powerful tool in both theoretical and applied contexts, providing a framework for solving complex problems related to connectivity, optimization, and network analysis."
   ]
  },
  {
   "cell_type": "code",
   "execution_count": 1,
   "metadata": {},
   "outputs": [],
   "source": [
    "from graph import Node, Edge, DiGraph\n",
    "\n",
    "graph_a = DiGraph()\n",
    "mansa = Node('Ardabil')\n",
    "birinci = Node('Sarab')\n",
    "ikinci = Node('Tabriz')\n",
    "ucminci = Node('Xoi')\n",
    "magsad = Node('Urmia')\n",
    "\n",
    "edge1 = Edge(mansa, birinci)\n",
    "edge2 = Edge(birinci, ikinci)\n",
    "edge3 = Edge(ikinci, ucminci)\n",
    "edge4 = Edge(ikinci, magsad)\n",
    "edge5 = Edge(ucminci, magsad)"
   ]
  },
  {
   "cell_type": "code",
   "execution_count": 3,
   "metadata": {},
   "outputs": [],
   "source": [
    "graph_a.add_node(mansa)\n",
    "graph_a.add_node(birinci)\n",
    "graph_a.add_node(ikinci)\n",
    "graph_a.add_node(ucminci)\n",
    "graph_a.add_node(magsad)\n"
   ]
  },
  {
   "cell_type": "code",
   "execution_count": 4,
   "metadata": {},
   "outputs": [],
   "source": [
    "graph_a.add_edges(edge1)\n",
    "graph_a.add_edges(edge2)\n",
    "graph_a.add_edges(edge3)\n",
    "graph_a.add_edges(edge4)\n",
    "graph_a.add_edges(edge5)"
   ]
  },
  {
   "cell_type": "code",
   "execution_count": 5,
   "metadata": {},
   "outputs": [
    {
     "data": {
      "text/plain": [
       "'Ardabil->Sarab\\nSarab->Tabriz\\nTabriz->Xoi\\nTabriz->Urmia\\nXoi->Urmia'"
      ]
     },
     "execution_count": 5,
     "metadata": {},
     "output_type": "execute_result"
    }
   ],
   "source": [
    "graph_a.__str__()"
   ]
  },
  {
   "cell_type": "markdown",
   "metadata": {},
   "source": [
    "## Example of Traveling between cities\n",
    "\n",
    "To solve this problem we use **depth-first search algorithm**\n",
    "\n",
    "**depth-first search algorithm:** Depth-First Search (DFS) is a fundamental algorithm for traversing or searching tree or graph data structures. The algorithm starts at the root node (for trees) or an arbitrary node (for graphs) and explores as far as possible along each branch before backtracking. This exploration process continues until all the nodes in the graph have been visited.\n",
    "\n",
    "Algorithm Steps\n",
    "\n",
    "1. Initialization:\n",
    "\n",
    "- Start from the root node (or any arbitrary node in a graph).\n",
    "- Use a stack to keep track of the nodes to be visited.\n",
    "2. Visit and Explore:\n",
    "\n",
    "- Pop the top node from the stack and mark it as visited.\n",
    "- Push all its adjacent (unvisited) nodes onto the stack.\n",
    "3. Backtracking:\n",
    "\n",
    "- If the stack is empty and there are still unvisited nodes, pick one of them and repeat the process."
   ]
  },
  {
   "cell_type": "markdown",
   "metadata": {},
   "source": [
    "### Breadth-First Search (BFS)\n",
    "\n",
    "Breadth-First Search (BFS) is a fundamental graph traversal algorithm used to explore nodes and edges of a graph systematically. Here’s an overview of the BFS algorithm, its characteristics, and applications:\n",
    "\n",
    "### Overview\n",
    "\n",
    "**Breadth-First Search (BFS)**:\n",
    "- BFS explores a graph level by level starting from a given source node.\n",
    "- It uses a queue data structure to keep track of nodes to be explored next.\n",
    "- Nodes are visited in the order of their distance from the source node, ensuring that the shortest path (in terms of number of edges) is found first.\n",
    "\n",
    "### Characteristics\n",
    "\n",
    "1. **Graph Representation**:\n",
    "   - BFS can be applied to graphs represented as adjacency lists or adjacency matrices.\n",
    "   - It works on both directed and undirected graphs.\n",
    "\n",
    "2. **Data Structure**:\n",
    "   - **Queue**: BFS uses a queue to manage the order of node exploration.\n",
    "   - **Visited Set/Array**: Keeps track of visited nodes to avoid revisiting and to prevent infinite loops.\n",
    "\n",
    "3. **Time Complexity**:\n",
    "   - For a graph with \\( V \\) vertices and \\( E \\) edges, the time complexity is \\( O(V + E) \\).\n",
    "   - This is because each vertex and edge is processed once.\n",
    "\n",
    "4. **Space Complexity**:\n",
    "   - The space complexity is \\( O(V) \\), primarily due to the storage requirements of the queue and the visited set/array.\n",
    "\n",
    "### Algorithm Steps\n",
    "\n",
    "1. **Initialization**:\n",
    "   - Start with a queue and enqueue the source node.\n",
    "   - Mark the source node as visited.\n",
    "\n",
    "2. **Traversal**:\n",
    "   - Dequeue a node from the queue and process it.\n",
    "   - For each unvisited neighbor of the current node, mark it as visited and enqueue it.\n",
    "   - Repeat the process until the queue is empty.\n",
    "\n",
    "\n",
    "### Applications\n",
    "\n",
    "1. **Shortest Path in Unweighted Graphs**:\n",
    "   - BFS finds the shortest path from a source node to all other nodes in an unweighted graph.\n",
    "\n",
    "2. **Web Crawlers**:\n",
    "   - Web crawlers use BFS to explore links level by level, ensuring all pages at the current depth are explored before moving deeper.\n",
    "\n",
    "3. **Social Networking Sites**:\n",
    "   - To find the shortest path (degrees of separation) between two users.\n",
    "\n",
    "4. **Peer-to-Peer Networks**:\n",
    "   - Used to find all neighbors within a given distance.\n",
    "\n",
    "5. **Maze and Puzzle Solvers**:\n",
    "   - BFS can be used to find the shortest path through a maze.\n",
    "\n",
    "6. **Broadcasting in Networks**:\n",
    "   - Ensures that a message reaches all nodes in the minimum number of hops.\n"
   ]
  },
  {
   "cell_type": "code",
   "execution_count": null,
   "metadata": {},
   "outputs": [],
   "source": []
  }
 ],
 "metadata": {
  "kernelspec": {
   "display_name": "Python 3",
   "language": "python",
   "name": "python3"
  },
  "language_info": {
   "codemirror_mode": {
    "name": "ipython",
    "version": 3
   },
   "file_extension": ".py",
   "mimetype": "text/x-python",
   "name": "python",
   "nbconvert_exporter": "python",
   "pygments_lexer": "ipython3",
   "version": "3.10.12"
  }
 },
 "nbformat": 4,
 "nbformat_minor": 2
}
