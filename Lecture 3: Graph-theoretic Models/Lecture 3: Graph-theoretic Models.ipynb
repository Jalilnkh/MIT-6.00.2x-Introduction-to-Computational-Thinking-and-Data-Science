{
 "cells": [
  {
   "cell_type": "markdown",
   "metadata": {},
   "source": [
    "# Lecture 3: Graph-theoretic Models"
   ]
  },
  {
   "cell_type": "markdown",
   "metadata": {},
   "source": [
    "Description: Prof. Grimson discusses graph models and depth-first and breadth-first search algorithms.\n",
    "\n",
    "Instructor: Eric Grimson"
   ]
  },
  {
   "cell_type": "markdown",
   "metadata": {},
   "source": [
    "### What is Graph?\n",
    "A graph is a mathematical structure used to model pairwise relationships between objects. It is composed of two main components: nodes and edges.\n",
    "\n",
    "1. **nodes** Represent the entities in the graph.\n",
    "2. **edges** Represent the connections or relationships between pairs of nodes."
   ]
  },
  {
   "cell_type": "markdown",
   "metadata": {},
   "source": [
    "### Graph Representation\n",
    "For most large and sparse graphs, an adjacency list is generally more efficient in terms of space and is often preferred for traversal operations. \n"
   ]
  },
  {
   "cell_type": "markdown",
   "metadata": {},
   "source": [
    "### Applications of Graphs\n",
    "Graphs are used in various fields to represent and analyze relationships and structures. Some applications include:\n",
    "\n",
    "1. **Computer Networks:** Representing connections between computers or devices.\n",
    "2. **Social Networks:** Representing relationships and interactions between people.\n",
    "3. **Transportation Networks:** Representing routes and connections between locations.\n",
    "4. **Biological Networks:** Representing interactions between biological entities such as proteins or genes.\n",
    "5. **Web Graphs:** Representing links between web pages.\n",
    "\n",
    "Graphs are a powerful tool in both theoretical and applied contexts, providing a framework for solving complex problems related to connectivity, optimization, and network analysis."
   ]
  },
  {
   "cell_type": "code",
   "execution_count": 1,
   "metadata": {},
   "outputs": [],
   "source": [
    "from graph import Node, Edge, DiGraph\n",
    "\n",
    "graph_a = DiGraph()\n",
    "mansa = Node('Ardabil')\n",
    "birinci = Node('Sarab')\n",
    "ikinci = Node('Tabriz')\n",
    "ucminci = Node('Xoi')\n",
    "magsad = Node('Urmia')\n",
    "\n",
    "edge1 = Edge(mansa, birinci)\n",
    "edge2 = Edge(birinci, ikinci)\n",
    "edge3 = Edge(ikinci, ucminci)\n",
    "edge4 = Edge(ikinci, magsad)\n",
    "edge5 = Edge(ucminci, magsad)"
   ]
  },
  {
   "cell_type": "code",
   "execution_count": 3,
   "metadata": {},
   "outputs": [],
   "source": [
    "graph_a.add_node(mansa)\n",
    "graph_a.add_node(birinci)\n",
    "graph_a.add_node(ikinci)\n",
    "graph_a.add_node(ucminci)\n",
    "graph_a.add_node(magsad)\n"
   ]
  },
  {
   "cell_type": "code",
   "execution_count": 4,
   "metadata": {},
   "outputs": [],
   "source": [
    "graph_a.add_edges(edge1)\n",
    "graph_a.add_edges(edge2)\n",
    "graph_a.add_edges(edge3)\n",
    "graph_a.add_edges(edge4)\n",
    "graph_a.add_edges(edge5)"
   ]
  },
  {
   "cell_type": "code",
   "execution_count": 5,
   "metadata": {},
   "outputs": [
    {
     "data": {
      "text/plain": [
       "'Ardabil->Sarab\\nSarab->Tabriz\\nTabriz->Xoi\\nTabriz->Urmia\\nXoi->Urmia'"
      ]
     },
     "execution_count": 5,
     "metadata": {},
     "output_type": "execute_result"
    }
   ],
   "source": [
    "graph_a.__str__()"
   ]
  },
  {
   "cell_type": "markdown",
   "metadata": {},
   "source": [
    "## Example of Traveling between cities\n",
    "\n",
    "To solve this problem we use **depth-first search algorithm**\n",
    "\n",
    "**depth-first search algorithm:** Depth-First Search (DFS) is a fundamental algorithm for traversing or searching tree or graph data structures. The algorithm starts at the root node (for trees) or an arbitrary node (for graphs) and explores as far as possible along each branch before backtracking. This exploration process continues until all the nodes in the graph have been visited.\n",
    "\n",
    "Algorithm Steps\n",
    "\n",
    "1. Initialization:\n",
    "\n",
    "- Start from the root node (or any arbitrary node in a graph).\n",
    "- Use a stack to keep track of the nodes to be visited.\n",
    "2. Visit and Explore:\n",
    "\n",
    "- Pop the top node from the stack and mark it as visited.\n",
    "- Push all its adjacent (unvisited) nodes onto the stack.\n",
    "3. Backtracking:\n",
    "\n",
    "- If the stack is empty and there are still unvisited nodes, pick one of them and repeat the process."
   ]
  },
  {
   "cell_type": "code",
   "execution_count": 1,
   "metadata": {},
   "outputs": [
    {
     "name": "stdout",
     "output_type": "stream",
     "text": [
      "Iterative DFS Traversal:\n"
     ]
    },
    {
     "ename": "TypeError",
     "evalue": "dfs() missing 3 required positional arguments: 'end', 'path', and 'shortest'",
     "output_type": "error",
     "traceback": [
      "\u001b[0;31m---------------------------------------------------------------------------\u001b[0m",
      "\u001b[0;31mTypeError\u001b[0m                                 Traceback (most recent call last)",
      "Cell \u001b[0;32mIn[1], line 15\u001b[0m\n\u001b[1;32m      5\u001b[0m graph \u001b[38;5;241m=\u001b[39m {\n\u001b[1;32m      6\u001b[0m     \u001b[38;5;124m'\u001b[39m\u001b[38;5;124mA\u001b[39m\u001b[38;5;124m'\u001b[39m: [\u001b[38;5;124m'\u001b[39m\u001b[38;5;124mB\u001b[39m\u001b[38;5;124m'\u001b[39m, \u001b[38;5;124m'\u001b[39m\u001b[38;5;124mC\u001b[39m\u001b[38;5;124m'\u001b[39m],\n\u001b[1;32m      7\u001b[0m     \u001b[38;5;124m'\u001b[39m\u001b[38;5;124mB\u001b[39m\u001b[38;5;124m'\u001b[39m: [\u001b[38;5;124m'\u001b[39m\u001b[38;5;124mD\u001b[39m\u001b[38;5;124m'\u001b[39m, \u001b[38;5;124m'\u001b[39m\u001b[38;5;124mE\u001b[39m\u001b[38;5;124m'\u001b[39m],\n\u001b[0;32m   (...)\u001b[0m\n\u001b[1;32m     11\u001b[0m     \u001b[38;5;124m'\u001b[39m\u001b[38;5;124mF\u001b[39m\u001b[38;5;124m'\u001b[39m: []\n\u001b[1;32m     12\u001b[0m }\n\u001b[1;32m     14\u001b[0m \u001b[38;5;28mprint\u001b[39m(\u001b[38;5;124m\"\u001b[39m\u001b[38;5;124mIterative DFS Traversal:\u001b[39m\u001b[38;5;124m\"\u001b[39m)\n\u001b[0;32m---> 15\u001b[0m \u001b[43mdfs\u001b[49m\u001b[43m(\u001b[49m\u001b[43mgraph\u001b[49m\u001b[43m,\u001b[49m\u001b[43m \u001b[49m\u001b[38;5;124;43m'\u001b[39;49m\u001b[38;5;124;43mA\u001b[39;49m\u001b[38;5;124;43m'\u001b[39;49m\u001b[43m)\u001b[49m\n",
      "\u001b[0;31mTypeError\u001b[0m: dfs() missing 3 required positional arguments: 'end', 'path', and 'shortest'"
     ]
    }
   ],
   "source": [
    "import sys\n",
    "sys.path.append('../')\n",
    "from utils.dfs import dfs\n",
    "# Example usage\n",
    "graph = {\n",
    "    'A': ['B', 'C'],\n",
    "    'B': ['D', 'E'],\n",
    "    'C': ['F'],\n",
    "    'D': [],\n",
    "    'E': ['F'],\n",
    "    'F': []\n",
    "}\n",
    "\n",
    "print(\"Iterative DFS Traversal:\")\n",
    "dfs(graph, 'A', 'C', )"
   ]
  },
  {
   "cell_type": "code",
   "execution_count": null,
   "metadata": {},
   "outputs": [],
   "source": []
  }
 ],
 "metadata": {
  "kernelspec": {
   "display_name": "Python 3",
   "language": "python",
   "name": "python3"
  },
  "language_info": {
   "codemirror_mode": {
    "name": "ipython",
    "version": 3
   },
   "file_extension": ".py",
   "mimetype": "text/x-python",
   "name": "python",
   "nbconvert_exporter": "python",
   "pygments_lexer": "ipython3",
   "version": "3.10.12"
  }
 },
 "nbformat": 4,
 "nbformat_minor": 2
}
