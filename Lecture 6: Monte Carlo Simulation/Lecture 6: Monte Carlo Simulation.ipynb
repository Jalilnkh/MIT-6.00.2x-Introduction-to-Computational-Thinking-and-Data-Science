{
 "cells": [
  {
   "cell_type": "markdown",
   "metadata": {},
   "source": [
    "# Lecture 6: Monte Carlo Simulation\n",
    "Description: Prof. Guttag discusses the Monte Carlo simulation, Roulette.\n",
    "\n",
    "Instructor: John Guttag"
   ]
  },
  {
   "cell_type": "markdown",
   "metadata": {},
   "source": [
    "### Monte Carlo Simulation\n",
    "A method of estimating the value of an unknown quantity using the principles of inferential statistics.\n",
    "\n",
    "- Inferential statistics\n",
    "    - Population: a set of examples\n",
    "    - sample: a proper subset of a population\n",
    "    - key fact: a Random sample tends to exhibit the same properties as the population from which it is drawn\n",
    "\n",
    "- Exactly what we did with random walk\n"
   ]
  },
  {
   "cell_type": "markdown",
   "metadata": {},
   "source": [
    "### Why the difference in confidence?\n",
    "\n",
    "- Confidence in our estimate depends upon two things\n",
    "    - Size of sample (100 versus 2)\n",
    "    - Variance of sample(All heads versus 52 heads)\n",
    "    - As the variance grows, we need larger samples to have the same degree of confidence\n",
    "    "
   ]
  },
  {
   "cell_type": "code",
   "execution_count": null,
   "metadata": {},
   "outputs": [],
   "source": []
  }
 ],
 "metadata": {
  "language_info": {
   "name": "python"
  }
 },
 "nbformat": 4,
 "nbformat_minor": 2
}
