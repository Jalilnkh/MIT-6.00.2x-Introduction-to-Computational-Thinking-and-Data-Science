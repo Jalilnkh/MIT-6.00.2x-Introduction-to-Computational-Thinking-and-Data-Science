{
 "cells": [
  {
   "cell_type": "markdown",
   "metadata": {},
   "source": [
    "# Lecture 6: Monte Carlo Simulation\n",
    "Description: Prof. Guttag discusses the Monte Carlo simulation, Roulette.\n",
    "\n",
    "Instructor: John Guttag"
   ]
  },
  {
   "cell_type": "markdown",
   "metadata": {},
   "source": [
    "### Monte Carlo Simulation\n",
    "A method of estimating the value of an unknown quantity using the principles of inferential statistics.\n",
    "\n",
    "- Inferential statistics\n",
    "    - Population: a set of examples\n",
    "    - sample: a proper subset of a population\n",
    "    - key fact: a Random sample tends to exhibit the same properties as the population from which it is drawn\n",
    "\n",
    "- Exactly what we did with random walk\n"
   ]
  },
  {
   "cell_type": "markdown",
   "metadata": {},
   "source": [
    "### Why the difference in confidence?\n",
    "\n",
    "- Confidence in our estimate depends upon two things\n",
    "    - Size of sample (100 versus 2)\n",
    "    - Variance of sample(All heads versus 52 heads)\n",
    "    - As the variance grows, we need larger samples to have the same degree of confidence\n",
    "    "
   ]
  },
  {
   "cell_type": "markdown",
   "metadata": {},
   "source": [
    "### Law of large numbers (LLN)\n",
    "In probability theory, the law of large numbers (LLN) is a mathematical theorem that states that the average of the results obtained from a large number of independent random samples converges to the true value, if it exists. More formally, the LLN states that given a sample of independent and identically distributed values, the sample mean converges to the true mean. For example, a fair coin toss is a Bernoulli trial. When a fair coin is flipped once, the theoretical probability that the outcome will be heads is equal to 1⁄2. Therefore, according to the law of large numbers, the proportion of heads in a \"large\" number of coin flips \"should be\" roughly 1⁄2. In particular, the proportion of heads after n flips will almost surely converge to 1⁄2 as n approaches infinity."
   ]
  },
  {
   "cell_type": "code",
   "execution_count": null,
   "metadata": {},
   "outputs": [],
   "source": []
  }
 ],
 "metadata": {
  "language_info": {
   "name": "python"
  }
 },
 "nbformat": 4,
 "nbformat_minor": 2
}
