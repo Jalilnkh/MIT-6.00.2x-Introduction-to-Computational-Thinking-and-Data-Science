{
 "cells": [
  {
   "cell_type": "markdown",
   "metadata": {},
   "source": [
    "# Lecture 6: Monte Carlo Simulation\n",
    "Description: Prof. Guttag discusses the Monte Carlo simulation, Roulette.\n",
    "\n",
    "Instructor: John Guttag"
   ]
  },
  {
   "cell_type": "markdown",
   "metadata": {},
   "source": [
    "### Monte Carlo Simulation\n",
    "A method of estimating the value of an unknown quantity using the principles of inferential statistics.\n",
    "\n",
    "- Inferential statistics\n",
    "    - Population: a set of examples\n",
    "    - sample: a proper subset of a population\n",
    "    - key fact: a Random sample tends to exhibit the same properties as the population from which it is drawn\n",
    "\n",
    "- Exactly what we did with random walk\n"
   ]
  },
  {
   "cell_type": "markdown",
   "metadata": {},
   "source": [
    "### Why the difference in confidence?\n",
    "\n",
    "- Confidence in our estimate depends upon two things\n",
    "    - Size of sample (100 versus 2)\n",
    "    - Variance of sample(All heads versus 52 heads)\n",
    "    - As the variance grows, we need larger samples to have the same degree of confidence\n",
    "    "
   ]
  },
  {
   "cell_type": "markdown",
   "metadata": {},
   "source": [
    "### Law of large numbers (LLN)\n",
    "In probability theory, the law of large numbers (LLN) is a mathematical theorem that states that the average of the results obtained from a large number of independent random samples converges to the true value, if it exists. More formally, the LLN states that given a sample of independent and identically distributed values, the sample mean converges to the true mean. For example, a fair coin toss is a Bernoulli trial. When a fair coin is flipped once, the theoretical probability that the outcome will be heads is equal to 1⁄2. Therefore, according to the law of large numbers, the proportion of heads in a \"large\" number of coin flips \"should be\" roughly 1⁄2. In particular, the proportion of heads after n flips will almost surely converge to 1⁄2 as n approaches infinity."
   ]
  },
  {
   "cell_type": "markdown",
   "metadata": {},
   "source": [
    "### Quantifing variation of data\n",
    "\n",
    "Variance (X) = Sigma(x)(x- mean)**2 / |X|\n",
    "\n",
    "std(X) = square(Sigma(x)(x- mean)**2 / |X|)"
   ]
  },
  {
   "cell_type": "markdown",
   "metadata": {},
   "source": [
    "## Computing confidence\n",
    "\n",
    "Computing confidence intervals is a fundamental statistical method used to estimate the range within which a population parameter lies, based on a sample statistic. Here’s a step-by-step guide to compute confidence intervals for a population mean, population proportion, and the difference between two means or proportions:\n",
    "\n",
    "### 1. **Confidence Interval for a Population Mean**\n",
    "To compute the confidence interval for a population mean \\(\\mu\\), you need to know:\n",
    "- The sample mean ({x})\n",
    "- The standard deviation sigma (if population standard deviation is known) or the sample standard deviation s (if population standard deviation is unknown)\n",
    "- The sample size (n)\n",
    "- The desired confidence level (e.g., 95%)\n",
    "\n",
    "\n",
    "### Steps for Calculation:\n",
    "1. **Determine the sample statistic**: This could be the sample mean \\(\\bar{x}\\) or sample proportion \\(\\hat{p}\\).\n",
    "2. **Select the confidence level**: Common choices are 90%, 95%, and 99%.\n",
    "3. **Find the appropriate critical value**: This could be \\(Z\\)-value for large samples (normal distribution) or \\(t\\)-value for smaller samples.\n",
    "4. **Compute the margin of error**: Use the standard error of the statistic and the critical value.\n",
    "5. **Construct the confidence interval**: Add and subtract the margin of error from the sample statistic.\n",
    "\n",
    "### Example Calculation:\n",
    "Suppose we have a sample mean of 100, a sample standard deviation of 15, a sample size of 25, and we want to compute a 95% confidence interval for the population mean.\n",
    "\n",
    "1. **Sample Mean (\\(\\bar{x}\\))**: 100\n",
    "2. **Sample Standard Deviation (s)**: 15\n",
    "3. **Sample Size (n)**: 25\n",
    "4. **Confidence Level**: 95%\n",
    "5. **Critical Value (\\(t_{\\alpha/2, \\, 24}\\))**: approximately 2.064 (from t-table for 24 degrees of freedom)\n",
    "\n",
    "\\[ \\text{Margin of Error} = 2.064 \\times \\left(\\frac{15}{\\sqrt{25}}\\right) = 2.064 \\times 3 = 6.192 \\]\n",
    "\n",
    "\\[ \\text{CI} = 100 \\pm 6.192 = (93.808, 106.192) \\]\n",
    "\n",
    "So, the 95% confidence interval for the population mean is (93.808, 106.192)."
   ]
  },
  {
   "cell_type": "markdown",
   "metadata": {},
   "source": [
    "### The Empirical \n",
    "The empirical rule, also known as the 68-95-99.7 rule, is a statistical guideline that applies to data with a normal distribution. It describes how data values are distributed around the mean in a bell-shaped curve. The rule is helpful in understanding the spread of data and identifying the proportion of data points within certain standard deviations from the mean.\n",
    "\n",
    "### The Empirical Rule States:\n",
    "\n",
    "1. **Approximately 68% of the data values lie within one standard deviation (\\(\\sigma\\)) of the mean (\\(\\mu\\)):**\n",
    "   \\[ \\mu - \\sigma \\leq X \\leq \\mu + \\sigma \\]\n",
    "   \n",
    "   This means that if you have a normally distributed data set, about 68% of the data points will fall within one standard deviation above and below the mean.\n",
    "\n",
    "2. **Approximately 95% of the data values lie within two standard deviations (2\\(\\sigma\\)) of the mean (\\(\\mu\\)):**\n",
    "   \\[ \\mu - 2\\sigma \\leq X \\leq \\mu + 2\\sigma \\]\n",
    "   \n",
    "   Here, about 95% of the data points will fall within two standard deviations above and below the mean.\n",
    "\n",
    "3. **Approximately 99.7% of the data values lie within three standard deviations (3\\(\\sigma\\)) of the mean (\\(\\mu\\)):**\n",
    "   \\[ \\mu - 3\\sigma \\leq X \\leq \\mu + 3\\sigma \\]\n",
    "   \n",
    "   In this case, about 99.7% of the data points will fall within three standard deviations above and below the mean.\n",
    "\n"
   ]
  },
  {
   "cell_type": "code",
   "execution_count": null,
   "metadata": {},
   "outputs": [],
   "source": []
  }
 ],
 "metadata": {
  "language_info": {
   "name": "python"
  }
 },
 "nbformat": 4,
 "nbformat_minor": 2
}
