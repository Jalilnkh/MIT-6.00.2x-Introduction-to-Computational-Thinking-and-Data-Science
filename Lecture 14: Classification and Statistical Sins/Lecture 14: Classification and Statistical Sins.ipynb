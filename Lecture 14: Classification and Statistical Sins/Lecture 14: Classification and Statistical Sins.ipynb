{
 "cells": [
  {
   "cell_type": "markdown",
   "metadata": {},
   "source": [
    "# Lecture 14: Classification and Statistical Sins\n",
    "\n",
    "\n",
    "Description: Prof. Guttag finishes discussing classification and introduces common statistical fallacies and pitfalls.\n",
    "\n",
    "Instructor: John Guttag\n",
    "\n",
    "\n"
   ]
  },
  {
   "cell_type": "markdown",
   "metadata": {},
   "source": [
    "### Human and Statistics\n",
    "\n",
    "If you can't prove what you want to prove, demonstrate something else and pretend they are the same thing. In the daze that follows collision of statistics with human mind, hardly anyone will notice the difference.\n",
    "\n",
    "Darrel Huff"
   ]
  },
  {
   "cell_type": "markdown",
   "metadata": {},
   "source": [
    "### Non-representative Sampling\n",
    "\n",
    "When samples not random and independent we can still do things like computer means and standard deviations, but we should not fraw conclusions from them using things like the empirical rule and central limi theorem."
   ]
  },
  {
   "cell_type": "markdown",
   "metadata": {},
   "source": [
    "### Important in data analysis\n",
    "\n",
    "- How the data was collected.\n",
    "- What the assumptions in the analysis were.\n",
    "- Where the assumptions are satisfied?\n",
    "\n",
    "If you dont have answer to these questions you should be worried about the data.\n"
   ]
  },
  {
   "cell_type": "code",
   "execution_count": null,
   "metadata": {},
   "outputs": [],
   "source": []
  }
 ],
 "metadata": {
  "kernelspec": {
   "display_name": "omniaz",
   "language": "python",
   "name": "python3"
  },
  "language_info": {
   "codemirror_mode": {
    "name": "ipython",
    "version": 3
   },
   "file_extension": ".py",
   "mimetype": "text/x-python",
   "name": "python",
   "nbconvert_exporter": "python",
   "pygments_lexer": "ipython3",
   "version": "3.9.7"
  }
 },
 "nbformat": 4,
 "nbformat_minor": 2
}
