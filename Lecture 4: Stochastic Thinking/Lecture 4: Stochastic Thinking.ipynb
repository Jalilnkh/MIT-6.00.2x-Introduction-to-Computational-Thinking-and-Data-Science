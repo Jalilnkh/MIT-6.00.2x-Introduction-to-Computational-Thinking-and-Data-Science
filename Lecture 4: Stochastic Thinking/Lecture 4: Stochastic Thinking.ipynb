{
 "cells": [
  {
   "cell_type": "markdown",
   "metadata": {},
   "source": [
    "# Lecture 4: Stochastic Thinking\n",
    "Description: Prof. Guttag introduces stochastic processes and basic probability theory.\n",
    "\n",
    "Instructor: John Guttag"
   ]
  },
  {
   "cell_type": "code",
   "execution_count": 1,
   "metadata": {},
   "outputs": [],
   "source": [
    "import random"
   ]
  },
  {
   "cell_type": "code",
   "execution_count": 2,
   "metadata": {},
   "outputs": [],
   "source": [
    "def roll_die():\n",
    "    return random.choice([1,2,3,4,5,6])\n",
    "\n",
    "def test_roll(n=10):\n",
    "    result = ''\n",
    "    for i in range(n):\n",
    "        result = result + str(roll_die())\n",
    "    print(result)\n"
   ]
  },
  {
   "cell_type": "code",
   "execution_count": 3,
   "metadata": {},
   "outputs": [
    {
     "name": "stdout",
     "output_type": "stream",
     "text": [
      "3661222115\n"
     ]
    }
   ],
   "source": [
    "test_roll()"
   ]
  },
  {
   "cell_type": "markdown",
   "metadata": {},
   "source": [
    "### A simulation of Die Rolling"
   ]
  },
  {
   "cell_type": "code",
   "execution_count": 10,
   "metadata": {},
   "outputs": [],
   "source": [
    "def run_sim(goal, num_trail, txt):\n",
    "    total = 0\n",
    "    for _ in range(num_trail):\n",
    "        result = ''\n",
    "        for _ in range(len(goal)):\n",
    "            result +=str(roll_die())\n",
    "        if result == goal:\n",
    "            total += 1\n",
    "    print(f'Actual probability of {txt} = {round(1/(6**len(goal)),8)}')\n",
    "    est_prob = round(total/num_trail, 8)\n",
    "    print(f'Estimated probability of {txt} = {round(est_prob, 8)}')\n"
   ]
  },
  {
   "cell_type": "code",
   "execution_count": 13,
   "metadata": {},
   "outputs": [
    {
     "name": "stdout",
     "output_type": "stream",
     "text": [
      "Actual probability of 11111 = 0.0001286\n",
      "Estimated probability of 11111 = 0.0001279\n"
     ]
    }
   ],
   "source": [
    "run_sim('11111', 10000000, '11111')"
   ]
  },
  {
   "cell_type": "markdown",
   "metadata": {},
   "source": [
    "### Birthday problem\n",
    "\n",
    "It is calculated as follows:\n",
    "\n",
    "formula = 1 - (366!/(365^n * (365-1)!))"
   ]
  },
  {
   "cell_type": "code",
   "execution_count": 14,
   "metadata": {},
   "outputs": [],
   "source": [
    "def same_date(num_p, num_s):\n",
    "    possible_dates = range(366)\n",
    "    birthdays = [0]*366\n",
    "    for p in range(num_p):\n",
    "        birthday_d = random.choice(possible_dates)\n",
    "        birthdays[birthday_d] += 1\n",
    "    return max(birthdays) >= num_s\n"
   ]
  },
  {
   "cell_type": "code",
   "execution_count": 15,
   "metadata": {},
   "outputs": [
    {
     "name": "stdout",
     "output_type": "stream",
     "text": [
      "For 10 est prob. of a shared birthday is 0.1175\n",
      "Actual prob. for N= 100 = 0.1166454118039999\n",
      "For 20 est prob. of a shared birthday is 0.4129\n",
      "Actual prob. for N= 100 = 0.4105696370550831\n",
      "For 40 est prob. of a shared birthday is 0.8955\n",
      "Actual prob. for N= 100 = 0.89054476188945\n",
      "For 100 est prob. of a shared birthday is 1.0\n",
      "Actual prob. for N= 100 = 0.9999996784357714\n"
     ]
    }
   ],
   "source": [
    "import math\n",
    "def birthday_prob(num_people, num_same, num_trail):\n",
    "    num_hits = 0\n",
    "    for _ in range(num_trail):\n",
    "        if same_date(num_people, num_same):\n",
    "            num_hits += 1\n",
    "    return num_hits/num_trail\n",
    "\n",
    "for num_people in [10, 20, 40, 100]:\n",
    "    print(f'For {num_people} est prob. of a shared birthday is {birthday_prob(num_people, 2, 10000)}')\n",
    "    numerator = math.factorial(366)\n",
    "    denom = (366**num_people)*math.factorial(366-num_people)\n",
    "    print(f'Actual prob. for N= 100 = {1-numerator/denom}')\n"
   ]
  },
  {
   "cell_type": "code",
   "execution_count": null,
   "metadata": {},
   "outputs": [],
   "source": []
  }
 ],
 "metadata": {
  "kernelspec": {
   "display_name": "Python 3",
   "language": "python",
   "name": "python3"
  },
  "language_info": {
   "codemirror_mode": {
    "name": "ipython",
    "version": 3
   },
   "file_extension": ".py",
   "mimetype": "text/x-python",
   "name": "python",
   "nbconvert_exporter": "python",
   "pygments_lexer": "ipython3",
   "version": "3.10.12"
  }
 },
 "nbformat": 4,
 "nbformat_minor": 2
}
